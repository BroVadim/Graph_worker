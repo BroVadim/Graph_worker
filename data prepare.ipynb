{
 "cells": [
  {
   "cell_type": "code",
   "execution_count": 2,
   "id": "f68d8c05-4268-4157-873d-4367a9562bb9",
   "metadata": {},
   "outputs": [],
   "source": [
    "import warnings\n",
    "warnings.filterwarnings('ignore')\n",
    "import numpy as np\n",
    "import pandas as pd\n",
    "from traceback import format_exc"
   ]
  },
  {
   "cell_type": "code",
   "execution_count": null,
   "id": "c522d2f2-5161-43c5-a3d9-b9ec42e49836",
   "metadata": {},
   "outputs": [],
   "source": [
    "def optimize_frame_memory(\n",
    "    frame : pd.DataFrame\n",
    ")-> pd.DataFrame:\n",
    "    \"\"\"\n",
    "        Оптимизация объёма памяти датафрейма\n",
    "    \"\"\"\n",
    "    try:\n",
    "        float64_columns = frame.select_dtypes(\n",
    "            include='float64'\n",
    "        ).columns\n",
    "        # преобразовываем столбцы с типом данных для чисел с плавающей запятой\n",
    "        for float64_col in float64_columns:\n",
    "            frame[float64_col]=frame[float64_col].astype('float32')\n",
    "        int64_columns=frame.select_dtypes(\n",
    "            include='int64'\n",
    "        ).columns\n",
    "        for int64_col in int64_columns:\n",
    "            type_check_list=list(\n",
    "                (frame[int64_col]>2147483648)&(frame[int64_col]<-2147483648)\n",
    "            )\n",
    "            if not any(type_check_list):\n",
    "                frame[int64_col]=frame[int64_col]\n",
    "            else:\n",
    "                pass\n",
    "        object_columns = frame.select_dtypes(\n",
    "            include='object'\n",
    "        ).columns\n",
    "        for object_col in object_columns:\n",
    "            num_unique_values=len(frame[object_col].unique())\n",
    "            num_total_values=len(frame[object_col])\n",
    "            if num_unique_values/num_total_values<0.5:\n",
    "                frame[object_col]=frame[object_col].astype('category')\n",
    "    except:\n",
    "        print(f'В ходе работы функции произошла ошибка {format_exc()}')\n",
    "    return frame\n",
    "\n",
    "def look_memory_usage(\n",
    "    frame : pd.DataFrame\n",
    ")->str:\n",
    "    try:\n",
    "        if isinstance(frame, pd.DataFrame):\n",
    "            usage_b = frame.memory_usage(deep=True).sum()\n",
    "        else:\n",
    "            usage_b = frame.memory_usage(deep=True)\n",
    "        usage_mb = usage_b/1024**2\n",
    "        response_string = '{:03.2f} Mb'.format(usage_mb)\n",
    "    except:\n",
    "        response_string = f'В ходе работы функции произошла ошибка: {format_exc()}'\n",
    "    return response_string"
   ]
  },
  {
   "cell_type": "code",
   "execution_count": null,
   "id": "55dbe04b-628e-40da-879e-8b054c71c5e7",
   "metadata": {},
   "outputs": [],
   "source": [
    "def frame_validation(\n",
    "    frame : pd.DataFrame\n",
    ")->pd.DataFrame:\n",
    "    graph_data_columns = ['receiver', 'recepient']"
   ]
  },
  {
   "cell_type": "code",
   "execution_count": null,
   "id": "40b06393-8b44-47b3-8d81-dd9a24549b9e",
   "metadata": {},
   "outputs": [],
   "source": []
  },
  {
   "cell_type": "code",
   "execution_count": null,
   "id": "666e0fa4-b5b3-4831-8f31-fe4ec706def4",
   "metadata": {},
   "outputs": [],
   "source": []
  },
  {
   "cell_type": "code",
   "execution_count": null,
   "id": "985ed995-2213-41d8-82ac-2ae282dde5a1",
   "metadata": {},
   "outputs": [],
   "source": []
  }
 ],
 "metadata": {
  "kernelspec": {
   "display_name": "Python 3 (ipykernel)",
   "language": "python",
   "name": "python3"
  },
  "language_info": {
   "codemirror_mode": {
    "name": "ipython",
    "version": 3
   },
   "file_extension": ".py",
   "mimetype": "text/x-python",
   "name": "python",
   "nbconvert_exporter": "python",
   "pygments_lexer": "ipython3",
   "version": "3.9.13"
  }
 },
 "nbformat": 4,
 "nbformat_minor": 5
}
