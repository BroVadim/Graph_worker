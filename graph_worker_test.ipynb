{
 "cells": [
  {
   "cell_type": "markdown",
   "id": "a8ce9239",
   "metadata": {},
   "source": [
    "### Пример использования graph_worker"
   ]
  },
  {
   "cell_type": "code",
   "execution_count": 110,
   "id": "17dff0b3-1636-4210-90ec-d37ec35ce339",
   "metadata": {},
   "outputs": [],
   "source": [
    "from graph_worker import *"
   ]
  },
  {
   "cell_type": "markdown",
   "id": "07b4cce6",
   "metadata": {},
   "source": [
    "### Создание графа c online подключением библиотек локально"
   ]
  },
  {
   "cell_type": "code",
   "execution_count": null,
   "id": "df6712a3-0858-4bda-a0c7-bfbe3316b2ce",
   "metadata": {},
   "outputs": [],
   "source": [
    "create_graph(\n",
    "    [1, 2, 3, 4, 5],  # node ids\n",
    "    ['Node #1', 'Node #2', 'Node #3', 'Node #4', 'Node #5'],  # node labels\n",
    "    [(1, 2), (1, 3), (2, 3), (2, 4), (3, 5), (5, 5)],\n",
    "    ['#d47415', '#22b512', '#42adf5', '#4a21b0', '#e627a3'], # node colors (HEX)\n",
    ")\n",
    "transform_graph_html()"
   ]
  },
  {
   "cell_type": "markdown",
   "id": "f63f7568",
   "metadata": {},
   "source": [
    "### Создание графа с offline подключением библиотек и для использования в Flask "
   ]
  },
  {
   "cell_type": "code",
   "execution_count": 112,
   "id": "15d311dd-f763-4bd8-8c98-2b70f5f57d06",
   "metadata": {},
   "outputs": [],
   "source": [
    "create_graph(\n",
    "    [1, 2, 3, 4, 5],  # node ids\n",
    "    ['Node #1', 'Node #2', 'Node #3', 'Node #4', 'Node #5'],  # node labels\n",
    "    [(1, 2), (1, 3), (2, 3), (2, 4), (3, 5), (5, 5)],\n",
    "    ['#d47415', '#22b512', '#42adf5', '#4a21b0', '#e627a3'], # node colors (HEX)\n",
    "    r'templates/graph.html'\n",
    ")\n",
    "transform_graph_html(\n",
    "    {'html_path':r'templates/graph.html',\n",
    "        'utils_path':r'../static/scripts/utils.js',\n",
    "        'network_js_path':r'../static/scripts/vis-network.min.js',\n",
    "        'network_css_path':r'../static/styles/vis-network.css'}\n",
    ")"
   ]
  }
 ],
 "metadata": {
  "kernelspec": {
   "display_name": "base",
   "language": "python",
   "name": "python3"
  },
  "language_info": {
   "codemirror_mode": {
    "name": "ipython",
    "version": 3
   },
   "file_extension": ".py",
   "mimetype": "text/x-python",
   "name": "python",
   "nbconvert_exporter": "python",
   "pygments_lexer": "ipython3",
   "version": "3.9.13"
  }
 },
 "nbformat": 4,
 "nbformat_minor": 5
}
