{
 "cells": [
  {
   "cell_type": "code",
   "execution_count": null,
   "id": "17dff0b3-1636-4210-90ec-d37ec35ce339",
   "metadata": {},
   "outputs": [],
   "source": [
    "from pyvis.network import Network\n",
    "import re\n",
    "from typing import Any"
   ]
  },
  {
   "cell_type": "code",
   "execution_count": 9,
   "id": "622b2c27",
   "metadata": {},
   "outputs": [],
   "source": [
    "import os"
   ]
  },
  {
   "cell_type": "code",
   "execution_count": 10,
   "id": "6adf6eff",
   "metadata": {},
   "outputs": [],
   "source": [
    "def search_all_files(path):\n",
    "    return [os.path.join(dp,f) for dp,dn,filenames in os.walk(path) for f in filenames]"
   ]
  },
  {
   "cell_type": "code",
   "execution_count": null,
   "id": "cea2f17f-ecc6-4b62-852e-b60dc2795fcc",
   "metadata": {},
   "outputs": [],
   "source": [
    "def transform_graph_html(\n",
    "    paths_dict : dict={\n",
    "        'html_path':None,\n",
    "        'utils_path':None,\n",
    "        'network_js_path':None,\n",
    "        'network_css_path':None\n",
    "    }\n",
    ")->None:\n",
    "    # проверяем существование указанных файлов библиотек\n",
    "    exist_files = [os.path.exists(file_path) for file_path in paths_dict.values]\n",
    "    # если все файлы существуют:\n",
    "    if all(exist_files):\n",
    "        utils_path = paths_dict['utils_path']\n",
    "        network_js_path = paths_dict['network_js_path']\n",
    "        network_css_path = paths_dict['network_css_path']\n",
    "    else:\n",
    "        if os.path.exists(r'lib'):\n",
    "            # формирование ссылок к файлам с помощью search_all_files(r'lib') и regexp\n",
    "            pass\n",
    "        else:\n",
    "            raise Exception('Некорректные пути к файлам библиотек')\n",
    "    \n",
    "    # replace_pattern  = {\n",
    "    #     r'<script src=\"lib/bindings/utils.js\"></script>' : '<script src=\"../static/scripts/utils.js\"></script>',\n",
    "    #     r'<link rel=\"stylesheet\".*vis-network\\.min\\.css.*/>' : '<link rel=\"stylesheet\" href=\"../static/styles/vis-network.css\"/>',\n",
    "    #     r'<script src=.*vis-network\\.min\\.js.*>' : '<script src=\"../static/scripts/vis-network.min.js\"></script>',\n",
    "    #     r'<link\\s*.*bootstrap\\.min\\.css[.\\n\\S\\s]*\\/>' : '',\n",
    "    #     r'<script\\s*.*bootstrap\\.bundle\\.min\\.js[.\\n\\S\\s]*\\><\\/script>':''\n",
    "    # }\n",
    "    with open(html_path, 'r+', encoding='cp1251') as file:\n",
    "        text = file.read()\n",
    "        for key, value in replace_pattern.items():\n",
    "            text = re.sub(key,value,text)\n",
    "        file.seek(0)\n",
    "        file.write(text)\n",
    "        file.truncate()\n",
    "\n",
    "\n",
    "def create_graph(\n",
    "    nodes,\n",
    "    labels,\n",
    "    colors,\n",
    "    edges,\n",
    "    filename=r'graph.html'\n",
    "):\n",
    "    net = Network()\n",
    "    net.add_nodes(\n",
    "        nodes,\n",
    "        label = labels,\n",
    "        color = colors\n",
    "    )\n",
    "    net.add_edges(edges)\n",
    "    net.show_buttons(filter_=['physics'])\n",
    "    net.save_graph(filename)"
   ]
  },
  {
   "cell_type": "code",
   "execution_count": 4,
   "id": "df6712a3-0858-4bda-a0c7-bfbe3316b2ce",
   "metadata": {},
   "outputs": [],
   "source": [
    "create_graph(\n",
    "    [1, 2, 3, 4, 5],  # node ids\n",
    "    ['Node #1', 'Node #2', 'Node #3', 'Node #4', 'Node #5'],  # node labels\n",
    "    ['#d47415', '#22b512', '#42adf5', '#4a21b0', '#e627a3'], # node colors (HEX)\n",
    "    [(1, 2), (1, 3), (2, 3), (2, 4), (3, 5), (5, 5)],\n",
    "    #'result_graph.html'\n",
    ")"
   ]
  },
  {
   "cell_type": "code",
   "execution_count": null,
   "id": "15d311dd-f763-4bd8-8c98-2b70f5f57d06",
   "metadata": {},
   "outputs": [],
   "source": []
  }
 ],
 "metadata": {
  "kernelspec": {
   "display_name": "Python 3",
   "language": "python",
   "name": "python3"
  },
  "language_info": {
   "codemirror_mode": {
    "name": "ipython",
    "version": 3
   },
   "file_extension": ".py",
   "mimetype": "text/x-python",
   "name": "python",
   "nbconvert_exporter": "python",
   "pygments_lexer": "ipython3",
   "version": "3.13.1"
  }
 },
 "nbformat": 4,
 "nbformat_minor": 5
}
