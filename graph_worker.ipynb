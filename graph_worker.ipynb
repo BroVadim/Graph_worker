{
 "cells": [
  {
   "cell_type": "code",
   "execution_count": 3,
   "id": "17dff0b3-1636-4210-90ec-d37ec35ce339",
   "metadata": {},
   "outputs": [],
   "source": [
    "from pyvis.network import Network\n",
    "import re"
   ]
  },
  {
   "cell_type": "code",
   "execution_count": 7,
   "id": "cea2f17f-ecc6-4b62-852e-b60dc2795fcc",
   "metadata": {},
   "outputs": [],
   "source": [
    "def transform_graph_html(\n",
    "    html_path : str=r'index.html',\n",
    "    utils_path : str=r'scripts/utils.js',\n",
    "    network_js_path : str=r'scripts/vis-network.min.js',\n",
    "    network_css_path : str=r'styles/vis-network.css' \n",
    ")->None:\n",
    "    replace_pattern  = {\n",
    "        r'<script src=\"lib/bindings/utils.js\"></script>' : '<script src=\"../static/scripts/utils.js\"></script>',\n",
    "        r'<link rel=\"stylesheet\".*vis-network\\.min\\.css.*/>' : '<link rel=\"stylesheet\" href=\"../static/styles/vis-network.css\"/>',\n",
    "        r'<script src=.*vis-network\\.min\\.js.*>' : '<script src=\"../static/scripts/vis-network.min.js\"></script>',\n",
    "        r'<link\\s*.*bootstrap\\.min\\.css[.\\n\\S\\s]*\\/>' : '',\n",
    "        r'<script\\s*.*bootstrap\\.bundle\\.min\\.js[.\\n\\S\\s]*\\><\\/script>':''\n",
    "    }\n",
    "    with open(filename, 'r+', encoding='cp1251') as file:\n",
    "        text = file.read()\n",
    "        for key, value in replace_pattern.items():\n",
    "            text = re.sub(key,value,text)\n",
    "        file.seek(0)\n",
    "        file.write(text)\n",
    "        file.truncate()\n",
    "\n",
    "\n",
    "def create_graph(\n",
    "    nodes,\n",
    "    labels,\n",
    "    colors,\n",
    "    edges,\n",
    "    filename=r'graph.html'\n",
    "):\n",
    "    net = Network()\n",
    "    net.add_nodes(\n",
    "        nodes,\n",
    "        label = labels,\n",
    "        color = colors\n",
    "    )\n",
    "    net.add_edges(edges)\n",
    "    net.show_buttons(filter_=['physics'])\n",
    "    net.save_graph(filename)"
   ]
  },
  {
   "cell_type": "code",
   "execution_count": 8,
   "id": "df6712a3-0858-4bda-a0c7-bfbe3316b2ce",
   "metadata": {},
   "outputs": [],
   "source": [
    "create_graph(\n",
    "    [1, 2, 3, 4, 5],  # node ids\n",
    "    ['Node #1', 'Node #2', 'Node #3', 'Node #4', 'Node #5'],  # node labels\n",
    "    ['#d47415', '#22b512', '#42adf5', '#4a21b0', '#e627a3'], # node colors (HEX)\n",
    "    [(1, 2), (1, 3), (2, 3), (2, 4), (3, 5), (5, 5)],\n",
    "    #'result_graph.html'\n",
    ")"
   ]
  },
  {
   "cell_type": "code",
   "execution_count": null,
   "id": "15d311dd-f763-4bd8-8c98-2b70f5f57d06",
   "metadata": {},
   "outputs": [],
   "source": []
  }
 ],
 "metadata": {
  "kernelspec": {
   "display_name": "Python 3 (ipykernel)",
   "language": "python",
   "name": "python3"
  },
  "language_info": {
   "codemirror_mode": {
    "name": "ipython",
    "version": 3
   },
   "file_extension": ".py",
   "mimetype": "text/x-python",
   "name": "python",
   "nbconvert_exporter": "python",
   "pygments_lexer": "ipython3",
   "version": "3.9.13"
  }
 },
 "nbformat": 4,
 "nbformat_minor": 5
}
